{
 "cells": [
  {
   "cell_type": "markdown",
   "metadata": {},
   "source": [
    "Exercise on Pandas and Numpy (and Matplotlib)\n",
    "\n",
    "Data is imported from plotly library.\n",
    "\n",
    "INSTRUCTIONS:\n",
    "- Solve the problem\n",
    "- Answer should be visible either in the printout from code cell and written in the markdown if possible. "
   ]
  },
  {
   "cell_type": "code",
   "execution_count": 5,
   "metadata": {},
   "outputs": [],
   "source": [
    "#Install libraries (not needed in Colab)\n",
    "#pip install plotly\n",
    "#pip install pandas\n",
    "#Import pandas and plotly.express libraries\n",
    "import plotly.express as px\n",
    "import pandas as pd"
   ]
  },
  {
   "cell_type": "code",
   "execution_count": 8,
   "metadata": {},
   "outputs": [
    {
     "data": {
      "text/html": [
       "<div>\n",
       "<style scoped>\n",
       "    .dataframe tbody tr th:only-of-type {\n",
       "        vertical-align: middle;\n",
       "    }\n",
       "\n",
       "    .dataframe tbody tr th {\n",
       "        vertical-align: top;\n",
       "    }\n",
       "\n",
       "    .dataframe thead th {\n",
       "        text-align: right;\n",
       "    }\n",
       "</style>\n",
       "<table border=\"1\" class=\"dataframe\">\n",
       "  <thead>\n",
       "    <tr style=\"text-align: right;\">\n",
       "      <th></th>\n",
       "      <th>country</th>\n",
       "      <th>continent</th>\n",
       "      <th>year</th>\n",
       "      <th>lifeExp</th>\n",
       "      <th>pop</th>\n",
       "      <th>gdpPercap</th>\n",
       "      <th>iso_alpha</th>\n",
       "      <th>iso_num</th>\n",
       "    </tr>\n",
       "  </thead>\n",
       "  <tbody>\n",
       "    <tr>\n",
       "      <th>12</th>\n",
       "      <td>Albania</td>\n",
       "      <td>Europe</td>\n",
       "      <td>1952</td>\n",
       "      <td>55.230</td>\n",
       "      <td>1282697</td>\n",
       "      <td>1601.056136</td>\n",
       "      <td>ALB</td>\n",
       "      <td>8</td>\n",
       "    </tr>\n",
       "    <tr>\n",
       "      <th>13</th>\n",
       "      <td>Albania</td>\n",
       "      <td>Europe</td>\n",
       "      <td>1957</td>\n",
       "      <td>59.280</td>\n",
       "      <td>1476505</td>\n",
       "      <td>1942.284244</td>\n",
       "      <td>ALB</td>\n",
       "      <td>8</td>\n",
       "    </tr>\n",
       "    <tr>\n",
       "      <th>14</th>\n",
       "      <td>Albania</td>\n",
       "      <td>Europe</td>\n",
       "      <td>1962</td>\n",
       "      <td>64.820</td>\n",
       "      <td>1728137</td>\n",
       "      <td>2312.888958</td>\n",
       "      <td>ALB</td>\n",
       "      <td>8</td>\n",
       "    </tr>\n",
       "    <tr>\n",
       "      <th>15</th>\n",
       "      <td>Albania</td>\n",
       "      <td>Europe</td>\n",
       "      <td>1967</td>\n",
       "      <td>66.220</td>\n",
       "      <td>1984060</td>\n",
       "      <td>2760.196931</td>\n",
       "      <td>ALB</td>\n",
       "      <td>8</td>\n",
       "    </tr>\n",
       "    <tr>\n",
       "      <th>16</th>\n",
       "      <td>Albania</td>\n",
       "      <td>Europe</td>\n",
       "      <td>1972</td>\n",
       "      <td>67.690</td>\n",
       "      <td>2263554</td>\n",
       "      <td>3313.422188</td>\n",
       "      <td>ALB</td>\n",
       "      <td>8</td>\n",
       "    </tr>\n",
       "    <tr>\n",
       "      <th>...</th>\n",
       "      <td>...</td>\n",
       "      <td>...</td>\n",
       "      <td>...</td>\n",
       "      <td>...</td>\n",
       "      <td>...</td>\n",
       "      <td>...</td>\n",
       "      <td>...</td>\n",
       "      <td>...</td>\n",
       "    </tr>\n",
       "    <tr>\n",
       "      <th>1603</th>\n",
       "      <td>United Kingdom</td>\n",
       "      <td>Europe</td>\n",
       "      <td>1987</td>\n",
       "      <td>75.007</td>\n",
       "      <td>56981620</td>\n",
       "      <td>21664.787670</td>\n",
       "      <td>GBR</td>\n",
       "      <td>826</td>\n",
       "    </tr>\n",
       "    <tr>\n",
       "      <th>1604</th>\n",
       "      <td>United Kingdom</td>\n",
       "      <td>Europe</td>\n",
       "      <td>1992</td>\n",
       "      <td>76.420</td>\n",
       "      <td>57866349</td>\n",
       "      <td>22705.092540</td>\n",
       "      <td>GBR</td>\n",
       "      <td>826</td>\n",
       "    </tr>\n",
       "    <tr>\n",
       "      <th>1605</th>\n",
       "      <td>United Kingdom</td>\n",
       "      <td>Europe</td>\n",
       "      <td>1997</td>\n",
       "      <td>77.218</td>\n",
       "      <td>58808266</td>\n",
       "      <td>26074.531360</td>\n",
       "      <td>GBR</td>\n",
       "      <td>826</td>\n",
       "    </tr>\n",
       "    <tr>\n",
       "      <th>1606</th>\n",
       "      <td>United Kingdom</td>\n",
       "      <td>Europe</td>\n",
       "      <td>2002</td>\n",
       "      <td>78.471</td>\n",
       "      <td>59912431</td>\n",
       "      <td>29478.999190</td>\n",
       "      <td>GBR</td>\n",
       "      <td>826</td>\n",
       "    </tr>\n",
       "    <tr>\n",
       "      <th>1607</th>\n",
       "      <td>United Kingdom</td>\n",
       "      <td>Europe</td>\n",
       "      <td>2007</td>\n",
       "      <td>79.425</td>\n",
       "      <td>60776238</td>\n",
       "      <td>33203.261280</td>\n",
       "      <td>GBR</td>\n",
       "      <td>826</td>\n",
       "    </tr>\n",
       "  </tbody>\n",
       "</table>\n",
       "<p>360 rows × 8 columns</p>\n",
       "</div>"
      ],
      "text/plain": [
       "             country continent  year  lifeExp       pop     gdpPercap  \\\n",
       "12           Albania    Europe  1952   55.230   1282697   1601.056136   \n",
       "13           Albania    Europe  1957   59.280   1476505   1942.284244   \n",
       "14           Albania    Europe  1962   64.820   1728137   2312.888958   \n",
       "15           Albania    Europe  1967   66.220   1984060   2760.196931   \n",
       "16           Albania    Europe  1972   67.690   2263554   3313.422188   \n",
       "...              ...       ...   ...      ...       ...           ...   \n",
       "1603  United Kingdom    Europe  1987   75.007  56981620  21664.787670   \n",
       "1604  United Kingdom    Europe  1992   76.420  57866349  22705.092540   \n",
       "1605  United Kingdom    Europe  1997   77.218  58808266  26074.531360   \n",
       "1606  United Kingdom    Europe  2002   78.471  59912431  29478.999190   \n",
       "1607  United Kingdom    Europe  2007   79.425  60776238  33203.261280   \n",
       "\n",
       "     iso_alpha  iso_num  \n",
       "12         ALB        8  \n",
       "13         ALB        8  \n",
       "14         ALB        8  \n",
       "15         ALB        8  \n",
       "16         ALB        8  \n",
       "...        ...      ...  \n",
       "1603       GBR      826  \n",
       "1604       GBR      826  \n",
       "1605       GBR      826  \n",
       "1606       GBR      826  \n",
       "1607       GBR      826  \n",
       "\n",
       "[360 rows x 8 columns]"
      ]
     },
     "execution_count": 8,
     "metadata": {},
     "output_type": "execute_result"
    }
   ],
   "source": [
    "#Read life expectation data for Europe from gapminder data\n",
    "data = px.data.gapminder().query(\"continent=='Europe'\")\n",
    "data"
   ]
  },
  {
   "cell_type": "markdown",
   "metadata": {},
   "source": [
    "TASK 1: Basic information\n",
    "- What are the columns of data?\n",
    "- What is the data type in each column?\n",
    "- What is the shape of data?\n",
    "- Print out data in first four rows, last four rows and  rows 100 - 104\n",
    "- Create new variable data_FI, which contains only data from Finland\n",
    "- Create new variable data_2007, which contains only data from 2007\n",
    "- Where was the biggest life expectansy in 2007? What was the population and GDB per capita there?\n"
   ]
  },
  {
   "cell_type": "code",
   "execution_count": 30,
   "metadata": {},
   "outputs": [
    {
     "data": {
      "text/plain": [
       "country          Iceland\n",
       "continent         Europe\n",
       "year                2007\n",
       "lifeExp           81.757\n",
       "pop               301931\n",
       "gdpPercap    36180.78919\n",
       "iso_alpha            ISL\n",
       "iso_num              352\n",
       "Name: 695, dtype: object"
      ]
     },
     "execution_count": 30,
     "metadata": {},
     "output_type": "execute_result"
    }
   ],
   "source": [
    "#1\n",
    "data.columns\n",
    "data.dtypes\n",
    "data.shape\n",
    "data.head(4)\n",
    "data.tail(4)\n",
    "data[100:104]\n",
    "data_FI = data[data['country'] == 'Finland']\n",
    "data_2007 = data[data['year'] == 2007]\n",
    "max_row = data_2007['lifeExp'].argmax()\n",
    "data_2007.iloc[max_row]\n",
    "\n"
   ]
  },
  {
   "cell_type": "markdown",
   "metadata": {},
   "source": [
    "TASK 2: Basic calculations\n",
    "- Define new variable data_year, which has one row for each year and columns year and total_population (in all countries)\n",
    "- Calculate the total population in Europe for every year in the data.\n",
    "- What was the population in 1952 and 2007?"
   ]
  },
  {
   "cell_type": "code",
   "execution_count": 28,
   "metadata": {},
   "outputs": [],
   "source": [
    "#2\n",
    "data_year = data.groupby(['year'], as_index = False)['pop'].sum()\n",
    "data_year = data_year.rename(columns={'pop':'europe_population'})\n",
    "data_year[data_year['year'] == 1952]['europe_population']/1000000\n",
    "data_year[data_year['year'] == 2007]['europe_population']/1000000"
   ]
  },
  {
   "cell_type": "markdown",
   "metadata": {},
   "source": [
    "TASK 3: \n",
    "- Calculate the total GDP for every country/year in the data\n",
    "- Caclulate the total GDP in Europe for every year\n",
    "- Calculate the GDP per capita in Europe for every year"
   ]
  },
  {
   "cell_type": "code",
   "execution_count": 40,
   "metadata": {},
   "outputs": [
    {
     "data": {
      "text/plain": [
       "<pandas.core.groupby.generic.DataFrameGroupBy object at 0x0000026AC55BE020>"
      ]
     },
     "execution_count": 40,
     "metadata": {},
     "output_type": "execute_result"
    }
   ],
   "source": [
    "#3\n",
    "data['gdpTotal'] = data['gdpPercap']*data['pop']\n",
    "data_europe = data.groupby(['year'], as_index = False)['gdpTotal'].sum()\n",
    "data_europe = data_europe.rename(columns={'gdpTotal':'GDP_Europe'})\n",
    "data_europe['total_population'] = data_year['europe_population']\n",
    "data_europe['GDP_percapita'] = data_europe['GDP_Europe']/data_europe['total_population']\n"
   ]
  },
  {
   "cell_type": "markdown",
   "metadata": {},
   "source": [
    "TASK 4:\n",
    "- Import data frame which contains year, GDP in Europe, population in Europe and GDP per capita in Europe to Numpy array\n",
    "- Calculate row and column averages (although row averages don't make any sense in this case)"
   ]
  },
  {
   "cell_type": "code",
   "execution_count": null,
   "metadata": {},
   "outputs": [],
   "source": [
    "#4\n",
    "import numpy as np\n",
    "data_numpy = data_europe.to_numpy(dtype = float)\n",
    "average1 = np.mean(data_numpy, axis = 0)\n",
    "average2 = np.mean(data_numpy, axis = 1)"
   ]
  },
  {
   "cell_type": "markdown",
   "metadata": {},
   "source": [
    "TASK 5a\n",
    "- Import data.csv used in earlier exercise\n",
    "- Convert Pandas data frame to NumPy array\n",
    "- What are the dimensions of an array?\n",
    "- Print out first five rows, last five rows and rows 100 - 105\n",
    "- Calculate the total number of heart beats (pulse times duration) from NumPy array\n",
    "\n",
    "TASK 5b\n",
    "- Define a random tensor C with  dimensions of 8*5*3\n",
    "- Calculate the average along axis 0, 1 and 2\n",
    "- What are the dimensions of output matrices?"
   ]
  },
  {
   "cell_type": "code",
   "execution_count": null,
   "metadata": {},
   "outputs": [],
   "source": [
    "#5a\n",
    "df_pandas = pd.read_csv('data.csv')\n",
    "data_numpy = df_pandas.to_numpy()\n",
    "data_numpy.shape\n",
    "data_numpy[range(5),:]\n",
    "a = data_numpy.shape\n",
    "a[0]\n",
    "data_numpy[range(a[0]-5,a[0]),:]\n",
    "data_numpy[range(100,105),:]\n",
    "total_heartbeats = data_numpy[:,0]*data_numpy[:,1]\n",
    "#add to original dataframe\n",
    "total_heartbeats = total_heartbeats.reshape(a[0],1)\n",
    "data_numpy = np.append(data_numpy, total_heartbeats, axis = 1)\n",
    "\n",
    "#5b\n",
    "C = np.random.rand(8,5,3)\n",
    "C_av_0 = np.mean(C, axis = 0)\n",
    "C_av_0.shape\n",
    "C_av_1 = np.mean(C, axis = 1)\n",
    "C_av_1.shape\n",
    "C_av_2 = np.mean(C, axis = 2)\n",
    "C_av_2.shape\n"
   ]
  },
  {
   "cell_type": "markdown",
   "metadata": {},
   "source": [
    "BONUS TASK 6:\n",
    "- Draw a graph of GDP per capita vs. time (upper panel) and life expectancy vs. time (lower panel)  in nordic countries (Finland, Sweden, Norway, Denmark, Iceland)"
   ]
  },
  {
   "cell_type": "code",
   "execution_count": null,
   "metadata": {},
   "outputs": [],
   "source": [
    "import matplotlib.pyplot as plt\n",
    "data_FI = data[data['country'] == \"Finland\"]\n",
    "fig = plt.figure(num = None, figsize = (12,6), dpi = 100)\n",
    "plt.grid(True)\n",
    "plt.ylabel('GDP')\n",
    "plt.xlabel('Year')\n",
    "plt.plot(data_FI['year'], data_FI['gdpPercap'])"
   ]
  }
 ],
 "metadata": {
  "kernelspec": {
   "display_name": "Python 3.10.7 64-bit",
   "language": "python",
   "name": "python3"
  },
  "language_info": {
   "codemirror_mode": {
    "name": "ipython",
    "version": 3
   },
   "file_extension": ".py",
   "mimetype": "text/x-python",
   "name": "python",
   "nbconvert_exporter": "python",
   "pygments_lexer": "ipython3",
   "version": "3.10.7"
  },
  "orig_nbformat": 4,
  "vscode": {
   "interpreter": {
    "hash": "8c3d4d9970fc5c09c50d9318a9c7fbf4d0159e4b28833276f5678ee22bded273"
   }
  }
 },
 "nbformat": 4,
 "nbformat_minor": 2
}
